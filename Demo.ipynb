{
 "cells": [
  {
   "cell_type": "markdown",
   "metadata": {},
   "source": [
    "Quantum Stabilizer Circuit Simulation\n",
    "=====================\n",
    "The following classes are defined in `stabilizer_sim.py`:\n",
    "+ `QState`\n",
    "+ `QCircuit`\n",
    "+ `Measure`\n",
    "+ `ControlledNot`\n",
    "+ `Hadamard`\n",
    "+ `Phase`\n",
    "+ `PauliX`\n",
    "+ `PauliZ`\n",
    "+ `ControlledZ`\n",
    "+ `Swap`"
   ]
  },
  {
   "cell_type": "code",
   "execution_count": 1,
   "metadata": {},
   "outputs": [],
   "source": [
    "from stabilizer_sim import QState, QCircuit"
   ]
  },
  {
   "cell_type": "markdown",
   "metadata": {},
   "source": [
    "Initializing State\n",
    "---------------------\n",
    "\n",
    "The qbits can be initialised by providing the pauli generator matrix\n",
    "or by using the `QState.zeros` function"
   ]
  },
  {
   "cell_type": "code",
   "execution_count": 2,
   "metadata": {
    "scrolled": false
   },
   "outputs": [
    {
     "name": "stdout",
     "output_type": "stream",
     "text": [
      "D----\n",
      "+XIII\n",
      "+IXII\n",
      "+IIXI\n",
      "+IIIX\n",
      "S----\n",
      "+ZIII\n",
      "+IZII\n",
      "+IIZI\n",
      "+IIIZ\n",
      "+|0000⟩\n"
     ]
    }
   ],
   "source": [
    "s = QState.zeros(4)\n",
    "print(s)\n",
    "print(s.ket())"
   ]
  },
  {
   "cell_type": "markdown",
   "metadata": {},
   "source": [
    "Preparing a Circuit\n",
    "----------------------\n",
    "The circuit can be constructed from individual gate\n",
    "or instantiated from a string\n",
    "\n",
    "These circuit can be concatenated using the `+=` operator"
   ]
  },
  {
   "cell_type": "code",
   "execution_count": 3,
   "metadata": {},
   "outputs": [
    {
     "name": "stdout",
     "output_type": "stream",
     "text": [
      "QCircuit([Hadamard(target=0), ControlledNot(target=(0, 1)), PauliZ(target=0), PauliX(target=0), ControlledNot(target=(0, 1)), Hadamard(target=0), Hadamard(target=2), Phase(target=2), Hadamard(target=3), Phase(target=3)])\n"
     ]
    }
   ],
   "source": [
    "c = QCircuit.from_str(\"H0 CX0,1 Z0 X0 CX0,1 H0    H2 S2 H3 S3\") # superdense coding\n",
    "\n",
    "print(c)"
   ]
  },
  {
   "cell_type": "markdown",
   "metadata": {},
   "source": [
    "Applying a circuit\n",
    "---------------------\n",
    "The cicuits can be applied by calling it with a QState as an argument\n",
    "\n",
    "The inverse of the circuit can also be applied by calling the `circuit.inverse` method"
   ]
  },
  {
   "cell_type": "code",
   "execution_count": 4,
   "metadata": {},
   "outputs": [
    {
     "name": "stdout",
     "output_type": "stream",
     "text": [
      "D----\n",
      "-XIII\n",
      "+IXII\n",
      "+IIZI\n",
      "+IIIZ\n",
      "S----\n",
      "-ZIII\n",
      "-IZII\n",
      "+IIYI\n",
      "+IIIY\n",
      "+|1100⟩\n",
      "+i|1110⟩\n",
      "+i|1101⟩\n",
      "-|1111⟩\n",
      "D----\n",
      "+IIXI\n",
      "+IIIX\n",
      "+XIII\n",
      "+IXII\n",
      "S----\n",
      "+IIZI\n",
      "+IIIZ\n",
      "+ZIII\n",
      "+IZII\n",
      "+|0000⟩\n"
     ]
    }
   ],
   "source": [
    "s = QState.zeros(4)\n",
    "\n",
    "print(c(s))\n",
    "print(s.ket())\n",
    "print(c.inverse(s))\n",
    "print(s.ket())"
   ]
  },
  {
   "cell_type": "markdown",
   "metadata": {},
   "source": [
    "Measuring a qbit\n",
    "------------------"
   ]
  },
  {
   "cell_type": "code",
   "execution_count": 5,
   "metadata": {},
   "outputs": [
    {
     "name": "stdout",
     "output_type": "stream",
     "text": [
      "D----\n",
      "-XIII\n",
      "+IXII\n",
      "+IIYI\n",
      "+IIIZ\n",
      "S----\n",
      "-ZIII\n",
      "-IZII\n",
      "+IIZI\n",
      "+IIIY\n",
      "QCircuit([Measure(target=2, outcome=0)])\n",
      "+|1100⟩\n",
      "+i|1101⟩\n"
     ]
    }
   ],
   "source": [
    "m = QCircuit.from_str(\"M2\")\n",
    "s = s.zeros(4)\n",
    "print(m(c(s)))\n",
    "print(m)\n",
    "print(s.ket())"
   ]
  },
  {
   "cell_type": "markdown",
   "metadata": {},
   "source": [
    "Further help on using these modules can be found by using the `help()` function"
   ]
  },
  {
   "cell_type": "code",
   "execution_count": 6,
   "metadata": {},
   "outputs": [
    {
     "name": "stdout",
     "output_type": "stream",
     "text": [
      "Help on method from_str in module stabilizer_sim:\n",
      "\n",
      "from_str(src) method of abc.ABCMeta instance\n",
      "    create a circuit from a string containing space separated gate specification\n",
      "    \n",
      "    Example\n",
      "    --------\n",
      "        >>> QCircuit.from_str(\"H0 CX0,1 H0\")\n",
      "        QCircuit([Hadamard(0), CNot((0,1)), Hadamard(0)])\n",
      "    \n",
      "    Gate Format Specification\n",
      "    -------------------------\n",
      "        Hn :\n",
      "            Hadamard on n-th index qbit\n",
      "        Sn :\n",
      "            Phase on n-th index qbit\n",
      "        CXa,b :\n",
      "            Controlled X on qbit b with qbit a as control\n",
      "        Mn :\n",
      "            Measure the n-th index bit in the computational basis\n",
      "        Xn :\n",
      "            Pauli-X on n-th index qbit\n",
      "        Zn :\n",
      "            Pauli-Z on n-th index qbit\n",
      "        CZa,b :\n",
      "            Controlled-Z on qbit b with qbit a as control\n",
      "        SWAPa,b :\n",
      "            Swap bit a and b\n",
      "\n"
     ]
    }
   ],
   "source": [
    "help(QCircuit.from_str)"
   ]
  },
  {
   "cell_type": "code",
   "execution_count": 7,
   "metadata": {},
   "outputs": [
    {
     "name": "stdout",
     "output_type": "stream",
     "text": [
      "Help on method zeros in module stabilizer_sim:\n",
      "\n",
      "zeros(size) method of builtins.type instance\n",
      "    Initialize the state n qbits set to zero\n",
      "\n"
     ]
    }
   ],
   "source": [
    "help(QState.zeros)"
   ]
  },
  {
   "cell_type": "code",
   "execution_count": null,
   "metadata": {},
   "outputs": [],
   "source": []
  }
 ],
 "metadata": {
  "kernelspec": {
   "display_name": "Python 3",
   "language": "python",
   "name": "python3"
  },
  "language_info": {
   "codemirror_mode": {
    "name": "ipython",
    "version": 3
   },
   "file_extension": ".py",
   "mimetype": "text/x-python",
   "name": "python",
   "nbconvert_exporter": "python",
   "pygments_lexer": "ipython3",
   "version": "3.7.0"
  }
 },
 "nbformat": 4,
 "nbformat_minor": 2
}
