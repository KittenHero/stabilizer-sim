{
 "cells": [
  {
   "cell_type": "markdown",
   "metadata": {},
   "source": [
    "# Pauli Based Computing (PBC) circuit\n",
    "\n",
    "Is a circuit defined with a sequence of generally adaptive commuting Pauli measurements. \n",
    "\n",
    "Any approximately universal circuit $C$ on $|0\\rangle^n$ with only clifford and T gates and measurements in the Z basis can be transformed into PBC circuit $\\tilde{C}$ with magic state input $|{A}\\rangle^t$ where $|A\\rangle = \\frac{1}{\\sqrt{2}}|0\\rangle + \\frac{1}{\\sqrt{2}} e^{i\\frac{\\pi}{4}}|1\\rangle$.  The outcome of $C$ is weakly simulated by the measurement of $\\tilde{C}$ and a classicaly polytime computation."
   ]
  },
  {
   "cell_type": "markdown",
   "metadata": {},
   "source": [
    "##  construction of $\\tilde{C}$\n",
    "\n",
    "For demonstrational purposes, we'll run through the procedure with this circuit below\n",
    "\n",
    "![pre-transformed circuit](c.png)\n",
    "\n",
    "1. replace any T gates in $C$ by a T-gadget with a fresh ancilla qubit prepared in state $|A\\rangle$.  This produced a new cicuit with only Clifford gates\n",
    "\n",
    "![T-gadget](T-gadget.png)\n",
    "\n",
    "![T-gadget replacement](c1.png)"
   ]
  },
  {
   "cell_type": "markdown",
   "metadata": {},
   "source": [
    "2.  Starting from the rightmost unitary U, commute out each gate beyond the last measurement and delete them.  Each Z measurement will be conjugated into a generally adaptive Pauli measurement\n",
    "\n",
    "$$P = U Z U^\\dagger$$\n",
    "\n",
    "![](c2.1.png)\n",
    "![](c2.2.png)\n",
    "![](c2.3.png)\n",
    "![](c2.4.png)\n",
    "![](c2.5.png)"
   ]
  },
  {
   "cell_type": "markdown",
   "metadata": {},
   "source": [
    "3.  Prefix the measurement list by Z on the first n qubits.  This is allowed because the measurements stabilizes the input states\n",
    "\n",
    "![](c3.png)"
   ]
  },
  {
   "cell_type": "markdown",
   "metadata": {},
   "source": [
    "4.  The circuit can be reduced replacing all measurement $M$ which anti-commute with some earlier measurement $N$ by $V\\left(\\lambda_N N, \\lambda_M M\\right) = \\frac{1}{\\sqrt{2}}\\left(\\lambda_N N + \\lambda_M M\\right)$, where the outcome of the measurment $\\lambda_M$ is randomly chosen, and commuting it out to the right.  Here $N$ can always be chosen as one of the prefixed $Z$ and the outcome is deterministically $\\lambda_N = +1$\n",
    "\n",
    "![](c4.1.png)\n",
    "![](c4.2.png)"
   ]
  },
  {
   "cell_type": "markdown",
   "metadata": {},
   "source": [
    "5.  Since the circuit all commutes with the first $n$ Z measurements with deterministic outcome these can be commuted out without affecting the output of the circuit.  The remaining measurements will be a set with only I on the first n qubits, thus we can eliminate the first n qubits from the circuit\n",
    "\n",
    "![](c5.png)"
   ]
  },
  {
   "cell_type": "markdown",
   "metadata": {},
   "source": [
    "6.  Finally, any measurement which is not independent from the previous measurements can be deleted since their outcome is determined."
   ]
  },
  {
   "cell_type": "markdown",
   "metadata": {},
   "source": [
    "## The action of $V$\n",
    "\n",
    "\n",
    "When commuting out $V = \\frac{1}{\\sqrt{2}}\\left(N + \\lambda M\\right)$ with a Pauli P, there are four possibilities.\n",
    "Since both $M$ and $N$ are (anti-commuting) Paulis, $V$ must be hermitian, that is $V = V^\\dagger$.\n",
    "\n",
    "+ if $[P, N] = [P, M] = 0$ then \n",
    "$$V P V = P$$\n",
    "\n",
    "+ if $[P, N] \\neq 0, [P, M] = 0$ then\n",
    "$$\\begin{align}\n",
    "V P V &= \\frac{1}{2}\\left(NPN  + \\lambda^2 M P M + \\lambda N P M + \\lambda M P N\\right) \\\\\n",
    "&= \\frac{1}{2}\\left(- PNN  + PMM - \\lambda P N M - \\lambda P N M\\right) \\\\\n",
    "&= - \\lambda P N M \\\\\n",
    "\\end{align}$$\n",
    "\n",
    "+ if $[P, N] = 0, [P, M] \\neq 0$ then\n",
    "$$\\begin{align}\n",
    "V P V &= \\frac{1}{2}\\left(NPN  + \\lambda^2 M P M + \\lambda N P M + \\lambda M P N\\right) \\\\\n",
    "&= \\frac{1}{2}\\left(PNN  - PMM + \\lambda P N M + \\lambda P N M\\right) \\\\\n",
    "&= \\lambda P N M \\\\\n",
    "\\end{align}$$\n",
    "\n",
    "+ if $[P, N] \\neq 0, [P, M] \\neq 0$ then\n",
    "$$\\begin{align}\n",
    "V P V &= \\frac{1}{2}\\left(NPN  + \\lambda^2 M P M + \\lambda N P M + \\lambda M P N\\right) \\\\\n",
    "&= \\frac{1}{2}\\left(- NNP  - MMP + \\lambda P N M - \\lambda P N M\\right) \\\\\n",
    "&= - P \\\\\n",
    "\\end{align}$$"
   ]
  },
  {
   "cell_type": "markdown",
   "metadata": {},
   "source": []
  },
  {
   "cell_type": "code",
   "execution_count": 1,
   "metadata": {},
   "outputs": [],
   "source": [
    "import sys, os\n",
    "from random import randint\n",
    "\n",
    "sys.path.append(os.path.split(os.getcwd())[0])\n",
    "from stabilizer_sim import QCircuit"
   ]
  },
  {
   "cell_type": "code",
   "execution_count": 2,
   "metadata": {},
   "outputs": [
    {
     "name": "stdout",
     "output_type": "stream",
     "text": [
      "H0\n",
      "CX0,1\n",
      "Measure(target=1, outcome=None)\n",
      "IF1 S0\n",
      "H0\n",
      "Measure(target=0, outcome=None)\n"
     ]
    }
   ],
   "source": [
    "c = QCircuit.from_str('H0 cX0,1 M1 if1 S0 H0 M0')\n",
    "print(c)"
   ]
  },
  {
   "cell_type": "code",
   "execution_count": 3,
   "metadata": {},
   "outputs": [
    {
     "name": "stdout",
     "output_type": "stream",
     "text": [
      "1\n",
      "GeneralPauli('Y', [1], phase=0)0\n",
      "0\n",
      "\n",
      "H0\n",
      "CX0,1\n",
      "Measure(target=1, outcome=1)\n",
      "IF1 S0\n",
      "H0\n",
      "Measure(target=0, outcome='0')\n"
     ]
    }
   ],
   "source": [
    "for x in c.hybrid_coroutine(1):\n",
    "    print(x)\n",
    "\n",
    "print('\\n' + str(c))"
   ]
  },
  {
   "cell_type": "code",
   "execution_count": 4,
   "metadata": {},
   "outputs": [
    {
     "name": "stdout",
     "output_type": "stream",
     "text": [
      "Transforming QCircuit([Hadamard(target=0), ControlledNot(target=(0, 1)), Measure(target=1, outcome=None), Conditional(control=[1], gate=Phase(target=0)), Hadamard(target=0), Measure(target=0, outcome=None)]) to pbc\r\n",
      "Replacing basis measurements by stabilizers\r\n",
      "Prepending Z measurements\r\n",
      "Commuting measurements to the left\r\n",
      "commuting 1-CX0,1 through 2-GeneralPauli('Z', [1], phase=0)\r\n",
      "result->GeneralPauli('ZZ', [0, 1], phase=0)\r\n",
      "commuting 0-H0 through 2-GeneralPauli('ZZ', [0, 1], phase=0)\r\n",
      "result->GeneralPauli('XZ', [0, 1], phase=0)\r\n",
      "GeneralPauli('XZ', [0, 1], phase=1) anti-commutes\r\n",
      "choosen random outcome: 1\r\n",
      "replacing with hybrid gate\r\n",
      "commuting 4-H0 through 5-GeneralPauli('Z', [0], phase=0)\r\n",
      "result->GeneralPauli('X', [0], phase=0)\r\n",
      "commuting 3-S0 through 5-GeneralPauli('X', [0], phase=0)\r\n",
      "result->GeneralPauli('Y', [0], phase=0)\r\n",
      "commuting 1-CX0,1 through 5-GeneralPauli('Y', [0], phase=0)\r\n",
      "result->GeneralPauli('YX', [0, 1], phase=0)\r\n",
      "commuting 0-H0 through 5-GeneralPauli('YX', [0, 1], phase=0)\r\n",
      "result->GeneralPauli('YX', [0, 1], phase=1)\r\n",
      "commuting 2-V(GeneralPauli('Z', [0], phase=0), GeneralPauli('XZ', [0, 1], phase=1)) through 5-GeneralPauli('YX', [0, 1], phase=1)\r\n",
      "result->GeneralPauli('Y', [1], phase=0)\r\n",
      "measuring GeneralPauli('Y', [1], phase=0)\r\n"
     ]
    }
   ],
   "source": [
    "%cat debug.log"
   ]
  },
  {
   "cell_type": "code",
   "execution_count": null,
   "metadata": {},
   "outputs": [],
   "source": []
  }
 ],
 "metadata": {
  "kernelspec": {
   "display_name": "Python 3",
   "language": "python",
   "name": "python3"
  },
  "language_info": {
   "codemirror_mode": {
    "name": "ipython",
    "version": 3
   },
   "file_extension": ".py",
   "mimetype": "text/x-python",
   "name": "python",
   "nbconvert_exporter": "python",
   "pygments_lexer": "ipython3",
   "version": "3.7.1"
  }
 },
 "nbformat": 4,
 "nbformat_minor": 2
}
