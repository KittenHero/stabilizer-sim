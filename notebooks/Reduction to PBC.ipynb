{
 "cells": [
  {
   "cell_type": "markdown",
   "metadata": {},
   "source": [
    "# Pauli Based Computing (PBC) circuit\n",
    "\n",
    "Is a circuit defined with a sequence of generally adaptive commuting Pauli measurements. \n",
    "\n",
    "Any approximately universal circuit $C$ on $|0\\rangle^n$ with only clifford and T gates and measurements in the Z basis can be transformed into PBC circuit $\\tilde{C}$ with magic state input $|{A}\\rangle^t$ where $|A\\rangle = \\frac{1}{\\sqrt{2}}|0\\rangle + \\frac{1}{\\sqrt{2}} e^{i\\frac{\\pi}{4}}|1\\rangle$.  The outcome of $C$ is weakly simulated by the measurement of $\\tilde{C}$ and a classicaly polytime computation."
   ]
  },
  {
   "cell_type": "markdown",
   "metadata": {},
   "source": [
    "##  construction of $\\tilde{C}$\n",
    "\n",
    "For demonstrational purposes, we'll run through the procedure with this circuit below\n",
    "\n",
    "![pre-transformed circuit](c.png)\n",
    "\n",
    "1. replace any T gates in $C$ by a T-gadget with a fresh ancilla qubit prepared in state $|A\\rangle$.  This produced a new cicuit with only Clifford gates\n",
    "\n",
    "![T-gadget](T-gadget.png)\n",
    "\n",
    "![T-gadget replacement](c1.png)\n",
    "\n",
    "2.  Starting from the rightmost unitary U, commute out each gate beyond the last measurement and delete them.  Each Z measurement will be conjugated into a generally adaptive Pauli measurement\n",
    "\n",
    "$$P = U Z U^\\dagger$$\n",
    "\n",
    "![](c2.1.png)\n",
    "![](c2.2.png)\n",
    "![](c2.3.png)\n",
    "![](c2.4.png)\n",
    "![](c2.5.png)\n",
    "\n",
    "3.  Prefix the measurement list by Z on the first n qubits.  This is allowed because the measurements stabilizes the input states\n",
    "\n",
    "![](c3.png)\n",
    "\n",
    "4.  The circuit can be reduced replacing all measurement $M$ which anti-commute with some earlier measurement $N$ by $V\\left(\\lambda_N N, \\lambda_M M\\right) = \\frac{1}{\\sqrt{2}}\\left(\\lambda_N N + \\lambda_M M\\right)$, where the outcome of the measurment $\\lambda_M$ is randomly chosen, and commuting it out to the right.  Here $N$ can always be chosen as one of the prefixed $Z$ and the outcome is deterministically $\\lambda_N = +1$\n",
    "\n",
    "![](c4.1.png)\n",
    "![](c4.2.png)\n",
    "\n",
    "5.  Since the circuit all commutes with the first $n$ Z measurements with deterministic outcome these can be commuted out without affecting the output of the circuit.  The remaining measurements will be a set with only I on the first n qubits, thus we can eliminate the first n qubits from the circuit\n",
    "\n",
    "![](c5.png)\n",
    "\n",
    "6.  Finally, any measurement which is not independent from the previous measurements can be deleted since their outcome is determined."
   ]
  },
  {
   "cell_type": "markdown",
   "metadata": {},
   "source": [
    "## The action of $V$\n",
    "\n",
    "\n",
    "When commuting out $V = \\frac{1}{\\sqrt{2}}\\left(N + \\lambda M\\right)$ with a Pauli P, there are four possibilities.\n",
    "Since both $M$ and $N$ are (anti-commuting) Paulis, $V$ must be hermitian, that is $V = V^\\dagger$.\n",
    "\n",
    "+ if $[P, N] = [P, M] = 0$ then \n",
    "$$V P V = P$$\n",
    "\n",
    "+ if $[P, N] \\neq 0, [P, M] = 0$ then\n",
    "$$\\begin{align}\n",
    "V P V &= \\frac{1}{2}\\left(NPN  + \\lambda^2 M P M + \\lambda N P M + \\lambda M P N\\right) \\\\\n",
    "&= \\frac{1}{2}\\left(- NNP  + MMP + \\lambda N M P + \\lambda N M P\\right) \\\\\n",
    "&= \\lambda N M P \\\\\n",
    "\\end{align}$$\n",
    "\n",
    "+ if $[P, N] = 0, [P, M] \\neq 0$ then\n",
    "$$\\begin{align}\n",
    "V P V &= \\frac{1}{2}\\left(NPN  + \\lambda^2 M P M + \\lambda N P M + \\lambda M P N\\right) \\\\\n",
    "&= \\frac{1}{2}\\left(NNP  - MMP - \\lambda N M P - \\lambda N M P\\right) \\\\\n",
    "&= -\\lambda N M P \\\\\n",
    "\\end{align}$$\n",
    "\n",
    "+ if $[P, N] \\neq 0, [P, M] \\neq 0$ then\n",
    "$$\\begin{align}\n",
    "V P V &= \\frac{1}{2}\\left(NPN  + \\lambda^2 M P M + \\lambda N P M + \\lambda M P N\\right) \\\\\n",
    "&= \\frac{1}{2}\\left(- NNP  - MMP - \\lambda N M P + \\lambda N M P\\right) \\\\\n",
    "&= - P \\\\\n",
    "\\end{align}$$"
   ]
  },
  {
   "cell_type": "markdown",
   "metadata": {},
   "source": []
  },
  {
   "cell_type": "code",
   "execution_count": null,
   "metadata": {},
   "outputs": [],
   "source": []
  }
 ],
 "metadata": {
  "kernelspec": {
   "display_name": "Python 3",
   "language": "python",
   "name": "python3"
  },
  "language_info": {
   "codemirror_mode": {
    "name": "ipython",
    "version": 3
   },
   "file_extension": ".py",
   "mimetype": "text/x-python",
   "name": "python",
   "nbconvert_exporter": "python",
   "pygments_lexer": "ipython3",
   "version": "3.7.0"
  }
 },
 "nbformat": 4,
 "nbformat_minor": 2
}
